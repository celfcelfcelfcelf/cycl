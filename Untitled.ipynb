{
 "cells": [
  {
   "cell_type": "code",
   "execution_count": 2,
   "id": "d2d86d33",
   "metadata": {},
   "outputs": [],
   "source": [
    "import math"
   ]
  },
  {
   "cell_type": "code",
   "execution_count": 53,
   "id": "12f1ca38",
   "metadata": {},
   "outputs": [],
   "source": [
    "riders_per_team = 3\n",
    "teams = 3\n",
    "level = 95\n",
    "riders = riders_per_team * teams\n",
    "\n",
    "\n"
   ]
  },
  {
   "cell_type": "code",
   "execution_count": 54,
   "id": "0efca76e",
   "metadata": {},
   "outputs": [
    {
     "name": "stdout",
     "output_type": "stream",
     "text": [
      "8 5 10\n",
      "8 6 9\n"
     ]
    }
   ],
   "source": [
    "list_ = []\n",
    "minimum = 1+riders_per_team*0.5-0.5\n",
    "maximum = (riders)-0.5*riders_per_team+0.5\n",
    "if riders_per_team == 3:\n",
    "    first = round(level*(maximum-minimum)/100+minimum)\n",
    "    #list_.append(first)\n",
    "    second = max(first-teams,1)\n",
    "    average = level * (maximum-minimum)/100 + minimum\n",
    "    third = round(average * riders_per_team - first - second)\n",
    "    a = 0\n",
    "    print(first, second, third)\n",
    "    while third > riders:\n",
    "        if third > riders:\n",
    "            if a % 2 == 1:\n",
    "                first = 1 + first\n",
    "                third = third - 1\n",
    "                a = 1 + a\n",
    "            elif a % 2 == 0:\n",
    "                second = 1 + second\n",
    "                third = third - 1\n",
    "                a = 1+a\n",
    "        print(first, second, third)\n",
    "        \n",
    "    \n",
    "    "
   ]
  },
  {
   "cell_type": "code",
   "execution_count": null,
   "id": "b74b7ee3",
   "metadata": {},
   "outputs": [],
   "source": []
  },
  {
   "cell_type": "code",
   "execution_count": null,
   "id": "c2360c9c",
   "metadata": {},
   "outputs": [],
   "source": []
  },
  {
   "cell_type": "code",
   "execution_count": 47,
   "id": "72eac0c9",
   "metadata": {},
   "outputs": [
    {
     "name": "stdout",
     "output_type": "stream",
     "text": [
      "2.0 8.0 7 3 6.2 -9\n"
     ]
    }
   ],
   "source": [
    "print(minimum, maximum, first, second, average, third)"
   ]
  },
  {
   "cell_type": "code",
   "execution_count": null,
   "id": "e89f79af",
   "metadata": {},
   "outputs": [],
   "source": []
  }
 ],
 "metadata": {
  "kernelspec": {
   "display_name": "Python 3 (ipykernel)",
   "language": "python",
   "name": "python3"
  },
  "language_info": {
   "codemirror_mode": {
    "name": "ipython",
    "version": 3
   },
   "file_extension": ".py",
   "mimetype": "text/x-python",
   "name": "python",
   "nbconvert_exporter": "python",
   "pygments_lexer": "ipython3",
   "version": "3.11.5"
  }
 },
 "nbformat": 4,
 "nbformat_minor": 5
}
