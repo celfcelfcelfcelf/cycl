{
 "cells": [
  {
   "cell_type": "code",
   "execution_count": 2,
   "id": "95e1c02c",
   "metadata": {},
   "outputs": [],
   "source": [
    "import math"
   ]
  },
  {
   "cell_type": "code",
   "execution_count": 53,
   "id": "ed083534",
   "metadata": {},
   "outputs": [],
   "source": [
    "riders_per_team = 3\n",
    "teams = 3\n",
    "level = 95\n",
    "riders = riders_per_team * teams\n",
    "\n",
    "\n"
   ]
  },
  {
   "cell_type": "code",
   "execution_count": 54,
   "id": "afe14589",
   "metadata": {},
   "outputs": [
    {
     "name": "stdout",
     "output_type": "stream",
     "text": [
      "8 5 10\n",
      "8 6 9\n"
     ]
    }
   ],
   "source": [
    "riders_per_team = 3\n",
    "teams = 3\n",
    "level = 50\n",
    "\n",
    "riders = riders_per_team * teams\n",
    "\n",
    "list_ = []\n",
    "minimum = 1+riders_per_team*0.5-0.5\n",
    "maximum = (riders)-0.5*riders_per_team+0.5\n",
    "if riders_per_team == 3:\n",
    "    first = round(level*(maximum-minimum)/100+minimum)\n",
    "    #list_.append(first)\n",
    "    second = max(first-teams,1)\n",
    "    average = level * (maximum-minimum)/100 + minimum\n",
    "    third = round(average * riders_per_team - first - second)\n",
    "    a = 0\n",
    "    print(first, second, third)\n",
    "    while third > riders:\n",
    "        if third > riders:\n",
    "            if a % 2 == 1:\n",
    "                first = 1 + first\n",
    "                third = third - 1\n",
    "                a = 1 + a\n",
    "            elif a % 2 == 0:\n",
    "                second = 1 + second\n",
    "                third = third - 1\n",
    "                a = 1+a\n",
    "\n",
    "list_.append(first)\n",
    "list_.append(second)\n",
    "list_.append(third)\n",
    "        \n",
    "    \n",
    "    "
   ]
  },
  {
   "cell_type": "code",
   "execution_count": null,
   "id": "77272fe4",
   "metadata": {},
   "outputs": [],
   "source": [
    "riders_per_team = 3\n",
    "teams = 3\n",
    "level = 50\n",
    "\n",
    "riders = riders_per_team * teams\n",
    "\n",
    "list_ = []\n",
    "minimum = 1+riders_per_team*0.5-0.5\n",
    "maximum = (riders)-0.5*riders_per_team+0.5\n",
    "if riders_per_team == 3:\n",
    "    first = round(level*(maximum-minimum)/100+minimum)\n",
    "    #list_.append(first)\n",
    "    second = max(first-teams,1)\n",
    "    average = level * (maximum-minimum)/100 + minimum\n",
    "    third = round(average * riders_per_team - first - second)\n",
    "    a = 0\n",
    "    print(first, second, third)\n",
    "    while third > riders:\n",
    "        if third > riders:\n",
    "            if a % 2 == 1:\n",
    "                first = 1 + first\n",
    "                third = third - 1\n",
    "                a = 1 + a\n",
    "            elif a % 2 == 0:\n",
    "                second = 1 + second\n",
    "                third = third - 1\n",
    "                a = 1+a\n",
    "\n",
    "list_.append(first)\n",
    "list_.append(second)\n",
    "list_.append(third)\n",
    "        "
   ]
  },
  {
   "cell_type": "code",
   "execution_count": 75,
   "id": "cd34597e",
   "metadata": {},
   "outputs": [
    {
     "name": "stdout",
     "output_type": "stream",
     "text": [
      "2 7\n"
     ]
    }
   ],
   "source": [
    "riders_per_team = 2\n",
    "teams = 6\n",
    "level = 31\n",
    "\n",
    "riders = riders_per_team * teams\n",
    "\n",
    "list_ = []\n",
    "minimum = 1+riders_per_team*0.5-0.5\n",
    "maximum = (riders)-0.5*riders_per_team+0.5\n",
    "if riders_per_team == 2:\n",
    "    average = level * (maximum-minimum)/100 + minimum\n",
    "    first = max(round(average-teams / 2),1)\n",
    "    second = round(average * 2 - first)\n",
    "    while second > riders:\n",
    "        if second > riders:\n",
    "            first = 1 + first\n",
    "            second = second - 1\n",
    "            \n",
    "    \n",
    "    \n",
    "print(first, second)\n",
    "    \n",
    "    \n",
    "    "
   ]
  },
  {
   "cell_type": "code",
   "execution_count": 47,
   "id": "9fc7dbdd",
   "metadata": {},
   "outputs": [
    {
     "name": "stdout",
     "output_type": "stream",
     "text": [
      "2.0 8.0 7 3 6.2 -9\n"
     ]
    }
   ],
   "source": [
    "print(minimum, maximum, first, second, average, third)"
   ]
  },
  {
   "cell_type": "code",
   "execution_count": null,
   "id": "af99a833",
   "metadata": {},
   "outputs": [],
   "source": []
  }
 ],
 "metadata": {
  "kernelspec": {
   "display_name": "Python 3 (ipykernel)",
   "language": "python",
   "name": "python3"
  },
  "language_info": {
   "codemirror_mode": {
    "name": "ipython",
    "version": 3
   },
   "file_extension": ".py",
   "mimetype": "text/x-python",
   "name": "python",
   "nbconvert_exporter": "python",
   "pygments_lexer": "ipython3",
   "version": "3.11.5"
  }
 },
 "nbformat": 4,
 "nbformat_minor": 5
}
